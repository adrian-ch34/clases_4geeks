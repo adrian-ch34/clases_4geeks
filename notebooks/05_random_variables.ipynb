{
 "cells": [
  {
   "cell_type": "markdown",
   "id": "4109c7fb",
   "metadata": {},
   "source": [
    "# Title\n"
   ]
  },
  {
   "cell_type": "code",
   "execution_count": 2,
   "id": "035bc51c",
   "metadata": {},
   "outputs": [],
   "source": [
    "import numpy as np\n",
    "import pandas as pd\n",
    "import matplotlib.pyplot as plt\n",
    "from scipy.stats import norm, binom, poisson\n"
   ]
  },
  {
   "cell_type": "markdown",
   "id": "4893a64d",
   "metadata": {},
   "source": [
    "El modelo Bernoullie se aplica a una variable aleatoria que puede asumir sólo dos variables. Para este modelo tenemos: \n",
    "\n",
    "- $E(X) = p$\n",
    "- $V(X) = pq$\n",
    "\n",
    "Donde \"$p$\" es la probabilidad de éxito y \"$q$\" es la probabilidad de fracaso. $E(X)$ significa la esperanza de la variable aleatoria $X$ y $V(X)$ significa la varianza de la variable aleatoria $X$"
   ]
  },
  {
   "cell_type": "markdown",
   "id": "dba89746",
   "metadata": {},
   "source": [
    "El modelo binomial puede considerarse como la suma de N variables Bernulli independientes una de otra donde se cumpla lo siguiente: \n",
    "1. Debe haber un número fijo de pruebas repetidas estadísticamente independientes.\n",
    "2. Cada prueba debe ser una variables Bernullie, es decir puede resultar en un éxito o un fracaso.\n",
    "3. Todas las pruebas deben tener idénticas probabilidades de éxito.\n",
    "\n",
    "El modelo binomial es discreto y tiene lo siguiente: \n",
    "- $E(X) = np$\n",
    "- $V(X) = npq$\n",
    "\n",
    "Donde \"$n$\" es el número de ensa"
   ]
  },
  {
   "cell_type": "markdown",
   "id": "6020839c",
   "metadata": {},
   "source": [
    "Una moneda es lanzada al aire 10 veces. ¿Cuál es la probabilidad de obtener 8 o más caras?"
   ]
  },
  {
   "cell_type": "code",
   "execution_count": null,
   "id": "f401573f",
   "metadata": {},
   "outputs": [],
   "source": []
  }
 ],
 "metadata": {
  "kernelspec": {
   "display_name": ".venv",
   "language": "python",
   "name": "python3"
  },
  "language_info": {
   "codemirror_mode": {
    "name": "ipython",
    "version": 3
   },
   "file_extension": ".py",
   "mimetype": "text/x-python",
   "name": "python",
   "nbconvert_exporter": "python",
   "pygments_lexer": "ipython3",
   "version": "3.12.1"
  }
 },
 "nbformat": 4,
 "nbformat_minor": 5
}
