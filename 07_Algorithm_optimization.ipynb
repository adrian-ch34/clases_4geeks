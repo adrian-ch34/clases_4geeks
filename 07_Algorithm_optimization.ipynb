{
  "cells": [
    {
      "cell_type": "markdown",
      "metadata": {},
      "source": [
        "## 07. **Probability**\n",
        " - Author: Santiago Trejo\n",
        " - Date: 20/08/2025\n",
        " - Goal: Optimizar algoritmos "
      ]
    },
    {
      "cell_type": "markdown",
      "metadata": {
        "id": "HUb8IQisF-fe"
      },
      "source": [
        "Algoritmo de suma y multiplicacion de matrices"
      ]
    },
    {
      "cell_type": "code",
      "execution_count": 3,
      "metadata": {
        "colab": {
          "base_uri": "https://localhost:8080/"
        },
        "id": "ZtUSwih_F7Rc",
        "outputId": "3ea6285f-ef5c-4468-f686-0f80567dcd6f"
      },
      "outputs": [
        {
          "data": {
            "text/plain": [
              "-1"
            ]
          },
          "execution_count": 3,
          "metadata": {},
          "output_type": "execute_result"
        }
      ],
      "source": [
        "matriz_a = [[-1,0,2],\n",
        "            [0,1,2],\n",
        "            [0,0,-1]]\n",
        "\n",
        "matriz_a[0][0]"
      ]
    },
    {
      "cell_type": "code",
      "execution_count": 19,
      "metadata": {
        "colab": {
          "base_uri": "https://localhost:8080/"
        },
        "id": "xHBXTLagHkch",
        "outputId": "d227f9b9-7be7-45a3-a725-4b0a10e23858"
      },
      "outputs": [
        {
          "name": "stdout",
          "output_type": "stream",
          "text": [
            "-1 0 2 \n",
            "\n",
            "0 1 2 \n",
            "\n",
            "0 0 -1 \n",
            "\n"
          ]
        }
      ],
      "source": [
        "def imprimir_matriz(matriz:list) -> None:\n",
        "  for i in range(len(matriz_a)):\n",
        "    for j in range(len(matriz_a)):\n",
        "      print(matriz[i][j], end=\" \")\n",
        "    print(\"\\n\")\n",
        "\n",
        "imprimir_matriz(matriz_a)"
      ]
    },
    {
      "cell_type": "markdown",
      "metadata": {
        "id": "O3f308yHKEkx"
      },
      "source": [
        "Dada una lista simple my_lista = [3,4,7,-1] genere un algoritmo para imprimir cada elemento de la lista separado por dos simbolos de igual"
      ]
    },
    {
      "cell_type": "code",
      "execution_count": 77,
      "metadata": {
        "colab": {
          "base_uri": "https://localhost:8080/"
        },
        "id": "U23_mmLpKazH",
        "outputId": "eda86834-889b-48e0-8d42-4c3e0c223cbf"
      },
      "outputs": [
        {
          "name": "stdout",
          "output_type": "stream",
          "text": [
            "3 == 4 == 7 == -1\n"
          ]
        }
      ],
      "source": [
        "my_lista = [3,4,7,-1] #Esto tiene n elementos\n",
        "\n",
        "#print(\"==\".join(map(str, mi_lista)))\n",
        "\n",
        "for i in range(len(my_lista)-1):\n",
        "  print(my_lista[i], end=\" == \")\n",
        "print(my_lista[-1])\n"
      ]
    },
    {
      "cell_type": "markdown",
      "metadata": {
        "id": "PILwNfpKON4e"
      },
      "source": [
        "Dados dos matrices, genere un algoritmo para sumar los elementos de una matriz:\n",
        "\n",
        "m_1 = [[0,1],[3,-2]]  \n",
        "m_2 = [[0,-1],[1,1]]"
      ]
    },
    {
      "cell_type": "code",
      "execution_count": 75,
      "metadata": {
        "colab": {
          "base_uri": "https://localhost:8080/"
        },
        "id": "-PBVYUICOUMQ",
        "outputId": "0e6267ae-7873-4851-bba0-f4b170403187"
      },
      "outputs": [
        {
          "data": {
            "text/plain": [
              "[[0, 0], [4, -1]]"
            ]
          },
          "execution_count": 75,
          "metadata": {},
          "output_type": "execute_result"
        }
      ],
      "source": [
        "m_1 = [[0,1],[3,-2]]\n",
        "m_2 = [[0,-1],[1,1]]\n",
        "\n",
        "def suma_matrices(matrizA:list, matrizB:list) -> list:\n",
        "  matriz_r = m_1.copy() #Se corre una vez (costo lineal)\n",
        "  for i in range(len(m_1)): #Carremos N filas\n",
        "    for j in range(len(m_1)): #Corremos N columnas\n",
        "      matriz_r[i][j] = matrizA[i][j] + matrizB[i][j]\n",
        "  return matriz_r\n",
        "\n",
        "suma_matrices(m_1,m_2)"
      ]
    },
    {
      "cell_type": "markdown",
      "metadata": {
        "id": "9CSnZCrdaTHI"
      },
      "source": [
        "Dada una lista de numeros retornar la lista con los numeros elevados al cuadrado. Ej: lista_b = [-3,2,0,10]"
      ]
    },
    {
      "cell_type": "code",
      "execution_count": 89,
      "metadata": {
        "colab": {
          "base_uri": "https://localhost:8080/"
        },
        "id": "ci_Ek8efab1q",
        "outputId": "52030aaf-1b45-46e5-8b47-0fd8d65f0312"
      },
      "outputs": [
        {
          "data": {
            "text/plain": [
              "[9, 4, 0, 100]"
            ]
          },
          "execution_count": 89,
          "metadata": {},
          "output_type": "execute_result"
        }
      ],
      "source": [
        "lista_b = [-3,2,0,10]\n",
        "\n",
        "resultado = list(map(lambda x: x**2, lista_b))\n",
        "\n",
        "def lista_cuadratica(listaA:list) -> None:\n",
        "  matriz_resultante = listaA.copy()\n",
        "  for i in range(len(listaA)):\n",
        "    matriz_resultante[i] = lista_b[i]**2\n",
        "  return matriz_resultante\n",
        "\n",
        "lista_cuadratica(lista_b)"
      ]
    },
    {
      "cell_type": "code",
      "execution_count": 91,
      "metadata": {
        "colab": {
          "base_uri": "https://localhost:8080/"
        },
        "id": "bLWvzHmic_Er",
        "outputId": "4dd507ba-ed2b-4157-f250-a03438944d97"
      },
      "outputs": [
        {
          "data": {
            "text/plain": [
              "[9, 4, 0, 100]"
            ]
          },
          "execution_count": 91,
          "metadata": {},
          "output_type": "execute_result"
        }
      ],
      "source": [
        "[x*x for x in lista_b]\n",
        "# Esto seria como\n",
        "# for x in lista_b:\n",
        "#   my_list.append(x*x)"
      ]
    },
    {
      "cell_type": "code",
      "execution_count": 92,
      "metadata": {
        "colab": {
          "base_uri": "https://localhost:8080/"
        },
        "id": "wNyfvalfddmh",
        "outputId": "0f4ed2bb-f11c-464b-c840-16f70eeac9f9"
      },
      "outputs": [
        {
          "data": {
            "text/plain": [
              "[-4, 1, -1, 9]"
            ]
          },
          "execution_count": 92,
          "metadata": {},
          "output_type": "execute_result"
        }
      ],
      "source": [
        "[x-1 for x in lista_b]"
      ]
    },
    {
      "cell_type": "code",
      "execution_count": 97,
      "metadata": {
        "colab": {
          "base_uri": "https://localhost:8080/"
        },
        "id": "5vAzm-nxeCqt",
        "outputId": "0a62a364-56f6-4ef9-e16f-e61289ae415a"
      },
      "outputs": [
        {
          "data": {
            "text/plain": [
              "[-3, 4, 0, 100]"
            ]
          },
          "execution_count": 97,
          "metadata": {},
          "output_type": "execute_result"
        }
      ],
      "source": [
        "[x*x if x > 0 else x for x in lista_b]"
      ]
    },
    {
      "cell_type": "code",
      "execution_count": 107,
      "metadata": {
        "colab": {
          "base_uri": "https://localhost:8080/"
        },
        "id": "u1OG-IQwik51",
        "outputId": "65e96580-ec70-46a7-d6d9-32b2a3bfb2d2"
      },
      "outputs": [
        {
          "data": {
            "text/plain": [
              "{'a': 'Juan', 'b': 'Maria'}"
            ]
          },
          "execution_count": 107,
          "metadata": {},
          "output_type": "execute_result"
        }
      ],
      "source": [
        "my_dict = {\n",
        "    'a':'juan',\n",
        "    'b':'maria'\n",
        "}\n",
        "{ k:v.upper() for k,v in my_dict.items()}"
      ]
    },
    {
      "cell_type": "code",
      "execution_count": 110,
      "metadata": {
        "colab": {
          "base_uri": "https://localhost:8080/"
        },
        "id": "upkpfAWUjx0V",
        "outputId": "b8133bd8-29a6-4c8c-9054-2c3530b861b5"
      },
      "outputs": [
        {
          "data": {
            "text/plain": [
              "{'a': 'Juan', 'b': 'Maria'}"
            ]
          },
          "execution_count": 110,
          "metadata": {},
          "output_type": "execute_result"
        }
      ],
      "source": [
        "{ k:v.capitalize() for k,v in my_dict.items()}"
      ]
    },
    {
      "cell_type": "code",
      "execution_count": 111,
      "metadata": {
        "colab": {
          "base_uri": "https://localhost:8080/"
        },
        "id": "8Aae6LnrkTBn",
        "outputId": "04589219-6563-4d08-c168-f6c3d08c95ca"
      },
      "outputs": [
        {
          "data": {
            "text/plain": [
              "dict_items([('a', 'juan'), ('b', 'maria')])"
            ]
          },
          "execution_count": 111,
          "metadata": {},
          "output_type": "execute_result"
        }
      ],
      "source": [
        "my_dict.items()"
      ]
    }
  ],
  "metadata": {
    "colab": {
      "provenance": []
    },
    "kernelspec": {
      "display_name": "Python 3",
      "name": "python3"
    },
    "language_info": {
      "name": "python"
    }
  },
  "nbformat": 4,
  "nbformat_minor": 0
}
