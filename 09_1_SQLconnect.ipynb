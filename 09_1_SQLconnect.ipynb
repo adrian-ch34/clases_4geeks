{
 "cells": [
  {
   "cell_type": "markdown",
   "id": "a4ad81ad",
   "metadata": {},
   "source": [
    "## 09.1 **SQL CONNECTION**\n",
    " - Author: Santiago Trejo\n",
    " - Date: 25/08/2025\n",
    " - Goal: Crear una base de datos nueva y añadir informacion."
   ]
  },
  {
   "cell_type": "code",
   "execution_count": 2,
   "id": "a60b676b",
   "metadata": {},
   "outputs": [],
   "source": [
    "from pandasql import sqldf\n",
    "import os\n",
    "import pandas as pd\n",
    "import sqlite3"
   ]
  },
  {
   "cell_type": "code",
   "execution_count": 3,
   "id": "775a767d",
   "metadata": {},
   "outputs": [],
   "source": [
    "con = sqlite3.connect(\"test.db\")"
   ]
  },
  {
   "cell_type": "code",
   "execution_count": 4,
   "id": "b08747f7",
   "metadata": {},
   "outputs": [
    {
     "data": {
      "text/plain": [
       "<sqlite3.Cursor at 0x73be8cebdb40>"
      ]
     },
     "execution_count": 4,
     "metadata": {},
     "output_type": "execute_result"
    }
   ],
   "source": [
    "con.execute(\"CREATE TABLE movies (id int PRIMARY KEY NOT NULL, tittle TEXT NOT NULL, year INT NOT NULL)\")\n"
   ]
  },
  {
   "cell_type": "code",
   "execution_count": 5,
   "id": "4eed57c0",
   "metadata": {},
   "outputs": [],
   "source": [
    "con.execute(\"INSERT INTO movies VALUES (1, 'Titanic', 1196)\")\n",
    "con.execute(\"INSERT INTO movies VALUES (2, 'The Godfather', 1972)\")\n",
    "con.execute(\"INSERT INTO movies VALUES (3, 'Gladiator 2', 2025)\")\n",
    "con.commit()"
   ]
  },
  {
   "cell_type": "code",
   "execution_count": 6,
   "id": "beaadd3d",
   "metadata": {},
   "outputs": [],
   "source": [
    "cursor = con.execute(\"SELECT * FROM movies WHERE year > 1990\")"
   ]
  },
  {
   "cell_type": "code",
   "execution_count": 9,
   "id": "5386b940",
   "metadata": {},
   "outputs": [],
   "source": [
    "for row in cursor:\n",
    "    print(f\"Tittle: {row[1]}, Year: {row[2]}\")"
   ]
  },
  {
   "cell_type": "code",
   "execution_count": 10,
   "id": "279b2340",
   "metadata": {},
   "outputs": [],
   "source": [
    "con.close()"
   ]
  }
 ],
 "metadata": {
  "kernelspec": {
   "display_name": ".venv",
   "language": "python",
   "name": "python3"
  },
  "language_info": {
   "codemirror_mode": {
    "name": "ipython",
    "version": 3
   },
   "file_extension": ".py",
   "mimetype": "text/x-python",
   "name": "python",
   "nbconvert_exporter": "python",
   "pygments_lexer": "ipython3",
   "version": "3.12.1"
  }
 },
 "nbformat": 4,
 "nbformat_minor": 5
}
